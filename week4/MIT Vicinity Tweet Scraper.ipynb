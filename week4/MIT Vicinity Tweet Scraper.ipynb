{
 "cells": [
  {
   "cell_type": "code",
   "execution_count": 1,
   "metadata": {
    "collapsed": true
   },
   "outputs": [],
   "source": [
    "\"\"\" Import Libraries for the tweet scraper \"\"\"\n",
    "\n",
    "import json\n",
    "import time\n",
    "import threading\n",
    "from datetime import datetime\n",
    "from twython import Twython\n",
    "from os import listdir\n",
    "from os.path import isfile, join\n",
    "import numpy as np\n",
    "import matplotlib.pyplot as plt\n",
    "%matplotlib inline\n",
    "\n",
    "# Imports the keys from the python file\n",
    "from twitter_key import t_key, t_secret\n",
    "\n",
    "# Assigns the keys to the variables\n",
    "APP_KEY = t_key\n",
    "APP_SECRET = t_secret"
   ]
  },
  {
   "cell_type": "code",
   "execution_count": 2,
   "metadata": {
    "collapsed": true
   },
   "outputs": [],
   "source": [
    "''' Fetches tweets with a given query at a given lat-long.'''\n",
    "def get_tweets( latlong=None ):\n",
    "    # Creates a Twithon object with the given keys\n",
    "    twitter = Twython( APP_KEY, APP_SECRET )\n",
    "    # Uses the search function to hit the APIs endpoints and look for recent tweets within the area\n",
    "    results = twitter.search( geocode=','.join([ str(x) for x in latlong ]) + ',15km', result_type='recent', count=10000)\n",
    "    # Returns the only the statuses from the resulting JSON\n",
    "    return results['statuses']"
   ]
  },
  {
   "cell_type": "code",
   "execution_count": 3,
   "metadata": {
    "collapsed": true
   },
   "outputs": [],
   "source": [
    "\"\"\" Does pretty much what its long name suggests. \"\"\"\n",
    "def get_lots_of_tweets( latlong ):\n",
    "    # Create a dictionary to parse the JSON\n",
    "    all_tweets = {}\n",
    "    \n",
    "    # We will be hitting the API a number of times within the total time\n",
    "    total_time = 900\n",
    "    # Everytime we hit the API we subtract time from the total\n",
    "    remaining_seconds = total_time\n",
    "    interval = 30 \n",
    "    while remaining_seconds > 0:\n",
    "        added = 0\n",
    "        # We hit the Twitter API\n",
    "        new_tweets = get_tweets( latlong )\n",
    "        # We parse the resulting JSON, and save the rest of the raw content\n",
    "        for tweet in new_tweets:\n",
    "            tid = tweet['id']\n",
    "            if tid not in all_tweets and tweet['coordinates'] != None:\n",
    "                properties = {}\n",
    "                properties['lat'] = tweet['coordinates']['coordinates'][1]\n",
    "                properties['lon'] = tweet['coordinates']['coordinates'][0]\n",
    "                properties['tweet_id'] = tid\n",
    "                properties['content'] = tweet['text']\n",
    "                properties['user'] = tweet['user']['id']\n",
    "                properties['user_location'] = tweet['user']['location']\n",
    "                properties['raw_source'] = tweet\n",
    "                properties['data_point'] = 'none'\n",
    "                properties['time'] = tweet['created_at']\n",
    "                all_tweets[ tid ] = properties\n",
    "                added += 1\n",
    "        print \"At %d seconds, added %d new tweets, for a total of %d\" % ( total_time - remaining_seconds, added, len( all_tweets ) )\n",
    "        # We wait a few seconds and hit the API again\n",
    "        time.sleep(interval)\n",
    "        remaining_seconds -= interval\n",
    "    # We return the final dictionary\n",
    "    return all_tweets"
   ]
  },
  {
   "cell_type": "code",
   "execution_count": 4,
   "metadata": {
    "collapsed": false
   },
   "outputs": [
    {
     "name": "stdout",
     "output_type": "stream",
     "text": [
      "At 0 seconds, added 91 new tweets, for a total of 91\n",
      "At 30 seconds, added 1 new tweets, for a total of 92\n",
      "At 60 seconds, added 0 new tweets, for a total of 92\n",
      "At 90 seconds, added 0 new tweets, for a total of 92\n",
      "At 120 seconds, added 0 new tweets, for a total of 92\n",
      "At 150 seconds, added 0 new tweets, for a total of 92\n",
      "At 180 seconds, added 0 new tweets, for a total of 92\n",
      "At 210 seconds, added 2 new tweets, for a total of 94\n",
      "At 240 seconds, added 0 new tweets, for a total of 94\n",
      "At 270 seconds, added 1 new tweets, for a total of 95\n",
      "At 300 seconds, added 0 new tweets, for a total of 95\n",
      "At 330 seconds, added 0 new tweets, for a total of 95\n",
      "At 360 seconds, added 2 new tweets, for a total of 97\n",
      "At 390 seconds, added 1 new tweets, for a total of 98\n",
      "At 420 seconds, added 1 new tweets, for a total of 99\n",
      "At 450 seconds, added 0 new tweets, for a total of 99\n",
      "At 480 seconds, added 0 new tweets, for a total of 99\n",
      "At 510 seconds, added 1 new tweets, for a total of 100\n",
      "At 540 seconds, added 1 new tweets, for a total of 101\n",
      "At 570 seconds, added 1 new tweets, for a total of 102\n",
      "At 600 seconds, added 0 new tweets, for a total of 102\n",
      "At 630 seconds, added 2 new tweets, for a total of 104\n",
      "At 660 seconds, added 0 new tweets, for a total of 104\n",
      "At 690 seconds, added 0 new tweets, for a total of 104\n",
      "At 720 seconds, added 1 new tweets, for a total of 105\n",
      "At 750 seconds, added 1 new tweets, for a total of 106\n",
      "At 780 seconds, added 1 new tweets, for a total of 107\n",
      "At 810 seconds, added 0 new tweets, for a total of 107\n",
      "At 840 seconds, added 1 new tweets, for a total of 108\n",
      "At 870 seconds, added 0 new tweets, for a total of 108\n"
     ]
    }
   ],
   "source": [
    "'''This function executes the rest of the functions over a given period of time'''\n",
    "def run():\n",
    "    # This is the number of times the code will be executed. In this case, just once. \n",
    "    starting = 1\n",
    "    while starting > 0:\n",
    "        # Sometimes the API returns some errors, killing the whole script, so we setup try/except to make sure it keeps running\n",
    "        try:\n",
    "            # We define a centroid on the MIT Campus, Cambridge, MA\n",
    "            latlong = [42.359578, -71.092136]\n",
    "            t = get_lots_of_tweets( latlong )\n",
    "            # We name every file with the current time\n",
    "            timestr = time.strftime(\"%Y%m%d-%H%M%S\")\n",
    "            # We write a new JSON into the target path\n",
    "            with open( '%stweets.json' %(timestr), 'w' ) as f:\n",
    "                f.write( json.dumps(t))\n",
    "            # we can use a library like threading to execute the run function continuously.\n",
    "            #threading.Timer(10, run).start()\n",
    "            starting -= 1\n",
    "        except:\n",
    "            pass\n",
    "    \n",
    "run()"
   ]
  },
  {
   "cell_type": "code",
   "execution_count": 69,
   "metadata": {
    "collapsed": false
   },
   "outputs": [],
   "source": [
    "# Get the file names from a given directory\n",
    "file_dir = '/Users/mrcampbell/Documents/github/16_11.S947/week4/MIT_tweets' # Set this to where your JSON saved\n",
    "onlyfiles = [ f for f in listdir(file_dir) if isfile(join(file_dir,f)) and not f.startswith('.')]\n",
    "\n",
    "# Initialize some lists to store the points, and the ids of the tweets\n",
    "ids = []\n",
    "plot_pts = []\n",
    "all_pts = []\n",
    "\n",
    "# Loop through all the files\n",
    "for file in onlyfiles:\n",
    "    full_dir = join(file_dir,file)\n",
    "    # Open the JSON\n",
    "    with open(full_dir) as f:\n",
    "        data = f.read()\n",
    "        # Load the JSON as a dict\n",
    "        dict = json.loads(data)\n",
    "        # Only add the unique tweets to the list\n",
    "        if not isinstance(dict, list):\n",
    "            for key, val in dict.iteritems():\n",
    "                if key not in ids:\n",
    "                    ids.append(key)\n",
    "                    twt_id = val ['tweet_id']\n",
    "                    lat = val['lat']\n",
    "                    lon = val['lon']\n",
    "                    time = val['time']\n",
    "                    all_pts.append([twt_id, time, lat, lon])\n",
    "                    plot_pts.append([twt_id, lat, lon])\n",
    "                    \n",
    "pts = np.array(all_pts)\n",
    "plotpt = np.array(plot_pts)\n",
    "\n",
    "#convert array datatype from unicode to string to satisfy savetxt\n",
    "pts_update = pts.astype(dtype= 'a30')\n",
    "\n",
    "#dump tweets array into a csv\n",
    "np.savetxt(\"cambridge_tweets.csv\", pts_update, delimiter=\",\", fmt = ('%30s,%30s,%30s,%30s'))"
   ]
  },
  {
   "cell_type": "code",
   "execution_count": 79,
   "metadata": {
    "collapsed": false
   },
   "outputs": [
    {
     "data": {
      "text/plain": [
       "<matplotlib.text.Text at 0x10bda3b90>"
      ]
     },
     "execution_count": 79,
     "metadata": {},
     "output_type": "execute_result"
    },
    {
     "data": {
      "image/png": "[encoded data removed]",
      "text/plain": [
       "<matplotlib.figure.Figure at 0x10c6dbd90>"
      ]
     },
     "metadata": {},
     "output_type": "display_data"
    }
   ],
   "source": [
    "# Use a scatter plot to make a quick visualization of the data points\n",
    "\n",
    "#create composite of lat/lon to define plot color\n",
    "plt_loc = plotpt[:,2]*plotpt[:,1]\n",
    "\n",
    "#create plot\n",
    "plt.scatter(plotpt[:,2], plotpt[:,1], c = plt_loc, cmap = 'plasma' )\n",
    "plt.title(\"15 Minutes of Tweets around MIT\")\n",
    "plt.xlabel(\"Longitude\")\n",
    "plt.ylabel(\"Latitude\")\n"
   ]
  },
  {
   "cell_type": "code",
   "execution_count": null,
   "metadata": {
    "collapsed": true
   },
   "outputs": [],
   "source": []
  }
 ],
 "metadata": {
  "kernelspec": {
   "display_name": "Python 2",
   "language": "python",
   "name": "python2"
  },
  "language_info": {
   "codemirror_mode": {
    "name": "ipython",
    "version": 2
   },
   "file_extension": ".py",
   "mimetype": "text/x-python",
   "name": "python",
   "nbconvert_exporter": "python",
   "pygments_lexer": "ipython2",
   "version": "2.7.11"
  }
 },
 "nbformat": 4,
 "nbformat_minor": 0
}
