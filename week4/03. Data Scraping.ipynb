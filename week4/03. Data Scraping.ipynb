{
 "cells": [
  {
   "cell_type": "markdown",
   "metadata": {
    "slideshow": {
     "slide_type": "slide"
    }
   },
   "source": [
    "Big Data And Society: Lab 3\n",
    "=====\n"
   ]
  },
  {
   "cell_type": "markdown",
   "metadata": {},
   "source": [
    "# Data Scraping"
   ]
  },
  {
   "cell_type": "markdown",
   "metadata": {},
   "source": [
    "### 0. Importing the library\n",
    "\n",
    "First we need to import the libraries, and some of their components. We will be using **Twython**, a library that provides wrappers around Twitter's API. To install **Twython** on a terminal or the command line, run the following command:\n",
    "```\n",
    "pip install twython\n",
    "```\n",
    "\n",
    "We also need to create a Python file that will contain the **Twitter** keys. It is never a good idea to host these keys on a public website like **github**, so one way to keep them private is importing the keys as a variable from a separate, untracked file. If you haven’t done so, at this point you should obtain your twitter API keys. Create a python file on the same directory of your **IPython** notebook, and name it: **`twitter_key.py`**.\n",
    "\n",
    "```\n",
    "# In the file you should define two variables:\n",
    "t_key = ‘your twitter key’\n",
    "t_secret = ‘your twitter secret’\n",
    "```\n",
    "\n",
    "Get your Twitter key and secret code on the [Twitter Apps site](https://apps.twitter.com/). You will need to create an application, it doesn't matter what you call it, to get your key and secret code. Once your application is created, you will find your keys on the **Keys and Access Tokens** tab of your application."
   ]
  },
  {
   "cell_type": "code",
   "execution_count": 4,
   "metadata": {
    "collapsed": false
   },
   "outputs": [],
   "source": [
    "import json\n",
    "import time\n",
    "import threading\n",
    "\n",
    "from datetime import datetime\n",
    "from twython import Twython\n",
    "\n",
    "# Imports the keys from the python file\n",
    "from twitter_key import t_key, t_secret\n"
   ]
  },
  {
   "cell_type": "markdown",
   "metadata": {},
   "source": [
    "### 1. Query the Twitter API\n",
    "Now we are going to construct a **Twython** object; this object simplifies the access to the [Twitter API](https://dev.twitter.com/overview/documentation), and provides methods for accessing the API’s endpoints. The first function fetches tweets with a given query at a given lat-long. We will be using the search parameters to hit the APIs endpoint. We need to provide the lat/lon of the centroid of the area we want to query, maximum number of tweets to return, and area within the centroid to search for, among others. \n",
    "\n",
    "Additional documentation of the Twython API can be found [here]( https://twython.readthedocs.org/en/latest/)\n"
   ]
  },
  {
   "cell_type": "code",
   "execution_count": 5,
   "metadata": {
    "collapsed": false
   },
   "outputs": [],
   "source": [
    "# Assigns the keys to the variables\n",
    "APP_KEY = t_key\n",
    "APP_SECRET = t_secret\n",
    "\n",
    "# Setup a Lat Lon\n",
    "latlong = [24.6333, 46.7167]\n",
    "\n",
    "''' Fetches tweets with a given query at a given lat-long.'''\n",
    "def get_tweets( latlong=None ):\n",
    "    # Creates a Twithon object with the given keys\n",
    "    twitter = Twython( APP_KEY, APP_SECRET )\n",
    "    # Uses the search function to hit the APIs endpoints and look for recent tweets within the area\n",
    "    results = twitter.search( geocode=','.join([ str(x) for x in latlong ]) + ',15km', result_type='recent', count=10000)\n",
    "    # Returns the only the statuses from the resulting JSON\n",
    "    return results['statuses']"
   ]
  },
  {
   "cell_type": "markdown",
   "metadata": {},
   "source": [
    "### 2. Hit the API and Parse the Result\n",
    "We are going to create a function to help us repeatedly hit the API, and parse the result into a readable JSON that contains the things that we are interested in, and still stores the raw tweet as an additional property. The returned object is a Python `dict` that we can easily parse into another dictionary to later store as a JSON. Raw JSONs returned from the API have a specific structure. It can be sometimes hard to read a raw JSON. I find it easy to use some online parses like [this]( http://json.parser.online.fr/) to look at the structure of the JSON, and only access what we care about. \n"
   ]
  },
  {
   "cell_type": "code",
   "execution_count": 26,
   "metadata": {
    "collapsed": true
   },
   "outputs": [],
   "source": [
    "\"\"\" Does pretty much what its long name suggests. \"\"\"\n",
    "def get_lots_of_tweets( latlong ):\n",
    "    # Create a dictionary to parse the JSON\n",
    "    all_tweets = {}\n",
    "    \n",
    "    # We will be hitting the API a number of times within the total time\n",
    "    total_time = 120\n",
    "    # Everytime we hit the API we subtract time from the total\n",
    "    remaining_seconds = total_time\n",
    "    interval = 30 \n",
    "    while remaining_seconds > 0:\n",
    "        added = 0\n",
    "        # We hit the Twitter API\n",
    "        new_tweets = get_tweets( latlong )\n",
    "        # We parse the resulting JSON, and save the rest of the raw content\n",
    "        for tweet in new_tweets:\n",
    "            tid = tweet['id']\n",
    "            if tid not in all_tweets and tweet['coordinates'] != None:\n",
    "                properties = {}\n",
    "                properties['lat'] = tweet['coordinates']['coordinates'][1]\n",
    "                properties['lon'] = tweet['coordinates']['coordinates'][0]\n",
    "                properties['tweet_id'] = tid\n",
    "                properties['content'] = tweet['text']\n",
    "                properties['user'] = tweet['user']['id']\n",
    "                properties['user_location'] = tweet['user']['location']\n",
    "                properties['raw_source'] = tweet\n",
    "                properties['data_point'] = 'none'\n",
    "                properties['time'] = tweet['created_at']\n",
    "                all_tweets[ tid ] = properties\n",
    "                added += 1\n",
    "        print \"At %d seconds, added %d new tweets, for a total of %d\" % ( total_time - remaining_seconds, added, len( all_tweets ) )\n",
    "        # We wait a few seconds and hit the API again\n",
    "        time.sleep(interval)\n",
    "        remaining_seconds -= interval\n",
    "    # We return the final dictionary\n",
    "    return all_tweets"
   ]
  },
  {
   "cell_type": "markdown",
   "metadata": {},
   "source": [
    "### 3. Run the Functions\n",
    "\n",
    "We need to call the functions, and save the JSONs into a location. In this case, I made a folder called `twitter`, where I a m saving all the new JSONS. We can run the code continuously utilizing some loop, or we can use libraries like `threading`. \n"
   ]
  },
  {
   "cell_type": "code",
   "execution_count": 27,
   "metadata": {
    "collapsed": false,
    "scrolled": true
   },
   "outputs": [
    {
     "name": "stdout",
     "output_type": "stream",
     "text": [
      "At 0 seconds, added 86 new tweets, for a total of 86\n",
      "At 30 seconds, added 1 new tweets, for a total of 87\n",
      "At 60 seconds, added 0 new tweets, for a total of 87\n",
      "At 90 seconds, added 1 new tweets, for a total of 88\n"
     ]
    }
   ],
   "source": [
    "'''This function executes the rest of the functions over a given period of time'''\n",
    "def run():\n",
    "    # This is the number of times the code will be executed. In this case, just once. \n",
    "    starting = 1\n",
    "    while starting > 0:\n",
    "        # Sometimes the API returns some errors, killing the whole script, so we setup try/except to make sure it keeps running\n",
    "        try:\n",
    "            # We define a centroid in Riyadh\n",
    "            latlong = [24.6333, 46.7167]\n",
    "            t = get_lots_of_tweets( latlong )\n",
    "            # We name every file with the current time\n",
    "            timestr = time.strftime(\"%Y%m%d-%H%M%S\")\n",
    "            # We write a new JSON into the target path\n",
    "            with open( '%stweets.json' %(timestr), 'w' ) as f:\n",
    "                f.write( json.dumps(t))\n",
    "            # we can use a library like threading to execute the run function continuously.\n",
    "            #threading.Timer(10, run).start()\n",
    "            starting -= 1\n",
    "        except:\n",
    "            pass\n",
    "    \n",
    "run()"
   ]
  },
  {
   "cell_type": "markdown",
   "metadata": {},
   "source": [
    "### 4. Parse the JSONs\n",
    "Once we have collected some data, we can parse it, and visualize some of the results. Since some of the data is repeated, we can initialize some lists to check whether or not a tweet already exists, and add it to the list. We can then extract the useful information for our purposes, and store it in another list.\n"
   ]
  },
  {
   "cell_type": "code",
   "execution_count": 29,
   "metadata": {
    "collapsed": false
   },
   "outputs": [
    {
     "data": {
      "text/plain": [
       "array([[ 24.61417794,  46.65241895],\n",
       "       [ 24.72549681,  46.76798234],\n",
       "       [ 24.75013687,  46.62406983],\n",
       "       [ 24.71517   ,  46.69749   ],\n",
       "       [ 24.67166667,  46.67472222],\n",
       "       [ 24.6934341 ,  46.6912101 ],\n",
       "       [ 24.67843804,  46.80088653],\n",
       "       [ 24.75703539,  46.74516572],\n",
       "       [ 24.70794414,  46.77567521],\n",
       "       [ 24.67843804,  46.80088653],\n",
       "       [ 24.72519352,  46.85316218],\n",
       "       [ 24.72530632,  46.85314812],\n",
       "       [ 24.65660055,  46.62753248],\n",
       "       [ 24.50772999,  46.61781644],\n",
       "       [ 24.64798538,  46.68509938],\n",
       "       [ 24.64732   ,  46.71458   ],\n",
       "       [ 24.5901696 ,  46.6315801 ],\n",
       "       [ 24.6934341 ,  46.6912101 ],\n",
       "       [ 24.58747424,  46.58643588],\n",
       "       [ 24.7135517 ,  46.6752957 ],\n",
       "       [ 24.65669736,  46.7397922 ],\n",
       "       [ 24.7388077 ,  46.8860302 ],\n",
       "       [ 24.7452123 ,  46.5771542 ],\n",
       "       [ 24.5970165 ,  46.6170261 ],\n",
       "       [ 24.6911786 ,  46.68376786],\n",
       "       [ 24.5463087 ,  46.6533035 ],\n",
       "       [ 24.64798303,  46.68519956],\n",
       "       [ 24.6408    ,  46.7728    ],\n",
       "       [ 24.72858647,  46.76631459],\n",
       "       [ 24.58747335,  46.58643476],\n",
       "       [ 24.58747394,  46.58643578],\n",
       "       [ 24.7287    ,  46.63292   ],\n",
       "       [ 24.57493347,  46.63673021],\n",
       "       [ 24.70883   ,  46.77381   ],\n",
       "       [ 24.58747335,  46.58643476],\n",
       "       [ 24.64804269,  46.6842704 ],\n",
       "       [ 24.5954033 ,  46.6444282 ],\n",
       "       [ 24.58744081,  46.58635218],\n",
       "       [ 24.6096631 ,  46.6738261 ],\n",
       "       [ 24.75491052,  46.66332721],\n",
       "       [ 24.60904932,  46.73956049],\n",
       "       [ 24.58747541,  46.58643691],\n",
       "       [ 24.76188767,  46.63814891],\n",
       "       [ 24.5970403 ,  46.6170013 ],\n",
       "       [ 24.68209063,  46.76021304],\n",
       "       [ 24.7388077 ,  46.8860302 ],\n",
       "       [ 24.75033043,  46.76517247],\n",
       "       [ 24.7388077 ,  46.8860302 ],\n",
       "       [ 24.71488687,  46.78778168],\n",
       "       [ 24.75350086,  46.85846764],\n",
       "       [ 24.5327593 ,  46.6845011 ],\n",
       "       [ 24.64799521,  46.68475808],\n",
       "       [ 24.7452123 ,  46.5771542 ],\n",
       "       [ 24.61417385,  46.65239458],\n",
       "       [ 24.6408    ,  46.7728    ],\n",
       "       [ 24.61416   ,  46.65255055],\n",
       "       [ 24.5327593 ,  46.6845011 ],\n",
       "       [ 24.64732   ,  46.71458   ],\n",
       "       [ 24.72763806,  46.85282274],\n",
       "       [ 24.72806777,  46.85280545],\n",
       "       [ 24.59553368,  46.62283979],\n",
       "       [ 24.61418228,  46.65244563],\n",
       "       [ 24.74856   ,  46.66585   ],\n",
       "       [ 24.72561   ,  46.65988   ],\n",
       "       [ 24.688     ,  46.7224    ],\n",
       "       [ 24.71769   ,  46.61326   ],\n",
       "       [ 24.7575205 ,  46.6419078 ],\n",
       "       [ 24.6176697 ,  46.7382348 ],\n",
       "       [ 24.64810259,  46.6846565 ],\n",
       "       [ 24.6934341 ,  46.6912101 ],\n",
       "       [ 24.67609531,  46.67559145],\n",
       "       [ 24.5643526 ,  46.8133281 ],\n",
       "       [ 24.70784782,  46.77563232],\n",
       "       [ 24.66555   ,  46.70861   ],\n",
       "       [ 24.58747541,  46.58643691],\n",
       "       [ 24.5954033 ,  46.6444282 ],\n",
       "       [ 24.56494   ,  46.71121   ],\n",
       "       [ 24.6408    ,  46.7728    ],\n",
       "       [ 24.72745456,  46.85288155],\n",
       "       [ 24.7436841 ,  46.8835497 ],\n",
       "       [ 24.64799521,  46.68475808],\n",
       "       [ 24.64803933,  46.68471237],\n",
       "       [ 24.76633064,  46.69267492],\n",
       "       [ 24.5970321 ,  46.6169841 ],\n",
       "       [ 24.72530632,  46.85314812],\n",
       "       [ 24.70154071,  46.69631217],\n",
       "       [ 24.6810021 ,  46.7460007 ],\n",
       "       [ 24.75681111,  46.73934562],\n",
       "       [ 24.75681011,  46.73934617],\n",
       "       [ 24.75788654,  46.71319979],\n",
       "       [ 24.6810015 ,  46.7459858 ],\n",
       "       [ 24.5970056 ,  46.6170436 ],\n",
       "       [ 24.6408    ,  46.7728    ],\n",
       "       [ 24.72405   ,  46.77555   ],\n",
       "       [ 24.75681109,  46.73934563],\n",
       "       [ 24.7305    ,  46.61187   ]])"
      ]
     },
     "execution_count": 29,
     "metadata": {},
     "output_type": "execute_result"
    }
   ],
   "source": [
    "# Import additional libraries\n",
    "from os import listdir\n",
    "from os.path import isfile, join\n",
    "import numpy as np\n",
    "import matplotlib.pyplot as plt\n",
    "%matplotlib inline\n",
    "\n",
    "# Get the file names from a given directory\n",
    "file_dir = '/Users/mrcampbell/Documents/github/16_11.S947/week4/tweets' # Set this to where your JSON saved\n",
    "onlyfiles = [ f for f in listdir(file_dir) if isfile(join(file_dir,f)) and not f.startswith('.')]\n",
    "\n",
    "# Initialize some lists to store the points, and the ids of the tweets\n",
    "ids = []\n",
    "all_pts = []\n",
    "# Loop through all the files\n",
    "for file in onlyfiles:\n",
    "    full_dir = join(file_dir,file)\n",
    "    # Open the JSON\n",
    "    with open(full_dir) as f:\n",
    "        data = f.read()\n",
    "        # Load the JSON as a dict\n",
    "        dict = json.loads(data)\n",
    "        # Only add the unique tweets to the list\n",
    "        if not isinstance(dict, list):\n",
    "            for key, val in dict.iteritems():\n",
    "                if key not in ids:\n",
    "                    ids.append(key)\n",
    "                    lat = val['lat']\n",
    "                    lon = val['lon']\n",
    "                    all_pts.append([lat,lon])\n",
    "pts = np.array(all_pts)\n",
    "pts                "
   ]
  },
  {
   "cell_type": "markdown",
   "metadata": {},
   "source": [
    "### 5. Plot some Tweets\n",
    "We can use **matplotlib** to visualize some tweets."
   ]
  },
  {
   "cell_type": "code",
   "execution_count": 32,
   "metadata": {
    "collapsed": false
   },
   "outputs": [
    {
     "data": {
      "text/plain": [
       "<matplotlib.collections.PathCollection at 0x10b763810>"
      ]
     },
     "execution_count": 32,
     "metadata": {},
     "output_type": "execute_result"
    },
    {
     "data": {
      "image/png": "[encoded data removed]",
      "text/plain": [
       "<matplotlib.figure.Figure at 0x10b82ab90>"
      ]
     },
     "metadata": {},
     "output_type": "display_data"
    }
   ],
   "source": [
    "# Use a scatter plot to make a quick visualization of the data points\n",
    "plt.scatter(pts[:,0], pts[:,1])"
   ]
  },
  {
   "cell_type": "markdown",
   "metadata": {},
   "source": [
    "Lets make sure that we don't get tweets plotted more than once. How would you make sure to only plot unique tweets? We can maybe:\n",
    "\n",
    "* Construct a list with unique id's\n",
    "* Only add the tweets to the `numpy.array` if the tweet doesn't exist in the list."
   ]
  },
  {
   "cell_type": "markdown",
   "metadata": {
    "collapsed": true
   },
   "source": [
    "### Problem Set - Extend What you Learned\n",
    "\n",
    "Now that you know how to scrape data let's extend the exercise a little so you can show us what you know. This time you will set up the scraper to get data around MIT and scrap data for 15 minutes and visualize. Think about what you would need to change to do that. \n",
    "\n",
    "Once you have the new json file of Boston tweets you should make a new array so that you can make a new scatter plot of your Boston tweets. When you make this new array you should get at least two different attributes returned by the Twitter api. One of them should be the tweet id. Make sure you remove and duplicate tweets (if any). Plot the tweets with different colors (use lat/long to determine the colors) using the scatter plot tool. Then save the data to a CSV.\n",
    "\n",
    "Make sure you get your own Twitter Key.\n",
    "\n",
    "#### Deliverables\n",
    "\n",
    "**1** - Collect Tweets from Boston for 15 min. Note how you set the time in the above example, it was in seconds. How would you do that here? \n",
    "\n",
    "**2** - Plot your tweets using matplotlib.\n",
    "\n",
    "**3** - Change colors based on lat/long position.\n",
    "\n",
    "**4** - Save your array CSV file. We will be checking this CSV file for duplicates. So clean your file.  \n",
    "\n",
    "### What to Give Us on Stellar \n",
    "\n",
    "1 - Iphython notebook of your scrapper, which includes your scattterplot.\n",
    "\n",
    "2 - Your final CSV file. \n",
    "\n",
    "### Bonus # 1\n",
    "\n",
    "Bonus  -- Do the orginally planned assignment now titled Bonus. If you do the whole thing you get a free homework assignment. If  you do parts of it you will get points to future assignments. \n"
   ]
  },
  {
   "cell_type": "code",
   "execution_count": null,
   "metadata": {
    "collapsed": true
   },
   "outputs": [],
   "source": []
  }
 ],
 "metadata": {
  "kernelspec": {
   "display_name": "Python 2",
   "language": "python",
   "name": "python2"
  },
  "language_info": {
   "codemirror_mode": {
    "name": "ipython",
    "version": 2
   },
   "file_extension": ".py",
   "mimetype": "text/x-python",
   "name": "python",
   "nbconvert_exporter": "python",
   "pygments_lexer": "ipython2",
   "version": "2.7.11"
  }
 },
 "nbformat": 4,
 "nbformat_minor": 0
}
